{
 "cells": [
  {
   "cell_type": "code",
   "execution_count": 1,
   "metadata": {},
   "outputs": [],
   "source": [
    "import requests\n",
    "from bs4 import BeautifulSoup\n",
    "import smtplib\n",
    "import time\n",
    "\n",
    "URL =\"https://www.amazon.in/HP-x740w-Flash-Drive-Gray/dp/B075B46XCG/ref=sr_1_12?crid=BJ4261Z0HIFD&keywords=pendrive+32gb+offers+today+low+price+best&qid=1562348869&s=gateway&sprefix=pendr%2Caps%2C282&sr=8-12\"\n",
    "#the url belongs to the product i am planning to buy"
   ]
  },
  {
   "cell_type": "code",
   "execution_count": 2,
   "metadata": {},
   "outputs": [],
   "source": [
    "headers = {\"User-agent\":\"Mozilla/5.0 (Windows NT 10.0; Win64; x64) AppleWebKit/537.36 (KHTML, like Gecko) Chrome/79.0.3945.117 Safari/537.36\"}"
   ]
  },
  {
   "cell_type": "code",
   "execution_count": 3,
   "metadata": {},
   "outputs": [],
   "source": [
    "def check_price():\n",
    "        page = requests.get(URL, headers=headers)\n",
    "        soup = BeautifulSoup(page.content, 'html.parser')\n",
    "        title = soup.find(id= \"productTitle\").get_text() \n",
    "        price = soup.find(id= \"priceblock_ourprice\").get_text() \n",
    "        converted_price = float(price[1:6])\n",
    "\n",
    "        if(converted_price < 500):\n",
    "            send_mail()\n",
    "\n",
    "        print(title.strip())\n",
    "        print(converted_price)\n",
    "\n",
    "        if(converted_price < 500): #the price is based on my product that ive choosed\n",
    "            send_mail()\n",
    "\n",
    "\n",
    "def send_mail():\n",
    "    server = smtplib.SMTP('smtp.gmail.com',587)\n",
    "    server.ehlo()\n",
    "    server.starttls()\n",
    "    server.ehlo()\n",
    "    server.login('','') #enter your mail id and password\n",
    "\n",
    "    subject = \"Hey, Kopal ! The Price fell down\"\n",
    "    body = 'Check the link https://www.amazon.in/HP-x740w-Flash-Drive-Gray/dp/B075B46XCG/ref=sr_1_12?crid=BJ4261Z0HIFD&keywords=pendrive+32gb+offers+today+low+price+best&qid=1562348869&s=gateway&sprefix=pendr%2Caps%2C282&sr=8-12  '\n",
    "\n",
    "    msg = f\"Subject: {subject}\\n\\n{body}\"\n",
    "\n",
    "    server.sendmail(\n",
    "        '',\n",
    "        '',\n",
    "        msg\n",
    "    ) #put your from mail id and to mail id within the quotes \n",
    "    print(\"Hey the mail has been sent\")\n",
    "    \n",
    "    server.quit()\n",
    "\n",
    "while(True):\n",
    "    check_price()\n",
    "    time.sleep(60*60)\n"
   ]
  }
 ],
 "metadata": {
  "kernelspec": {
   "display_name": "Python 3",
   "language": "python",
   "name": "python3"
  },
  "language_info": {
   "codemirror_mode": {
    "name": "ipython",
    "version": 3
   },
   "file_extension": ".py",
   "mimetype": "text/x-python",
   "name": "python",
   "nbconvert_exporter": "python",
   "pygments_lexer": "ipython3",
   "version": "3.7.3"
  }
 },
 "nbformat": 4,
 "nbformat_minor": 2
}
